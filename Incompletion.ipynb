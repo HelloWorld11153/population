{
 "cells": [
  {
   "cell_type": "code",
   "execution_count": null,
   "metadata": {},
   "outputs": [],
   "source": [
    "#동 이름이 같은 지역(ex)부흥동) 구분하기 (미완성)\n",
    "import csv\n",
    "f=open('gender.csv')\n",
    "data=csv.reader(f)\n",
    "name=input('지역 입력 : ')\n",
    "header=next(data)\n",
    "m=[]\n",
    "f=[]\n",
    "\n",
    "for row in data:\n",
    "    if name in row[0]:\n",
    "        for i in row[3:104]:\n",
    "            m.append(int(i))\n",
    "        for i in row[106:]:\n",
    "            f.append(-int(i))\n",
    "            \n",
    "import matplotlib.pyplot as plt\n",
    "plt.rc('font', family='Malgun Gothic')\n",
    "plt.rcParams['axes.unicode_minus']=False\n",
    "plt.title(name+'지역의 성별 인구분포')\n",
    "plt.barh(range(202),m,label='Male')\n",
    "plt.barh(range(202),f,label='Female')\n",
    "plt.legend()\n",
    "plt.show()"
   ]
  },
  {
   "cell_type": "code",
   "execution_count": null,
   "metadata": {},
   "outputs": [],
   "source": []
  }
 ],
 "metadata": {
  "kernelspec": {
   "display_name": "Python 3",
   "language": "python",
   "name": "python3"
  },
  "language_info": {
   "codemirror_mode": {
    "name": "ipython",
    "version": 3
   },
   "file_extension": ".py",
   "mimetype": "text/x-python",
   "name": "python",
   "nbconvert_exporter": "python",
   "pygments_lexer": "ipython3",
   "version": "3.8.5"
  }
 },
 "nbformat": 4,
 "nbformat_minor": 4
}
